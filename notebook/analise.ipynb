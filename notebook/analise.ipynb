{
 "cells": [
  {
   "cell_type": "code",
   "execution_count": null,
   "metadata": {
    "vscode": {
     "languageId": "plaintext"
    }
   },
   "outputs": [],
   "source": [
    "import pandas as pd\n",
    "\n",
    "# Carregar dados de treino e teste\n",
    "df_treino = pd.read_csv('../data/treino.csv')\n",
    "df_teste = pd.read_csv('../data/teste.csv')\n",
    "\n",
    "# Verificar as primeiras linhas\n",
    "print(\"Dados de Treino:\")\n",
    "print(df_treino.head())\n",
    "\n",
    "print(\"\\nDados de Teste:\")\n",
    "print(df_teste.head())"
   ]
  },
  {
   "cell_type": "code",
   "execution_count": null,
   "metadata": {
    "vscode": {
     "languageId": "plaintext"
    }
   },
   "outputs": [],
   "source": [
    "# Informações sobre os dados de treino\n",
    "print(\"Informações dos Dados de Treino:\")\n",
    "print(df_treino.info())\n",
    "\n",
    "# Informações sobre os dados de teste\n",
    "print(\"\\nInformações dos Dados de Teste:\")\n",
    "print(df_teste.info())"
   ]
  },
  {
   "cell_type": "code",
   "execution_count": null,
   "metadata": {
    "vscode": {
     "languageId": "plaintext"
    }
   },
   "outputs": [],
   "source": [
    "# Verificar valores faltantes nos dados de treino\n",
    "print(\"Valores Faltantes nos Dados de Treino:\")\n",
    "print(df_treino.isnull().sum())\n",
    "\n",
    "# Verificar valores faltantes nos dados de teste\n",
    "print(\"\\nValores Faltantes nos Dados de Teste:\")\n",
    "print(df_teste.isnull().sum())"
   ]
  },
  {
   "cell_type": "code",
   "execution_count": null,
   "metadata": {
    "vscode": {
     "languageId": "plaintext"
    }
   },
   "outputs": [],
   "source": [
    "# Verificar distribuição das classes no conjunto de treino\n",
    "print(\"Distribuição das Classes no Conjunto de Treino:\")\n",
    "print(df_treino['target'].value_counts())"
   ]
  },
  {
   "cell_type": "code",
   "execution_count": null,
   "metadata": {
    "vscode": {
     "languageId": "plaintext"
    }
   },
   "outputs": [],
   "source": [
    "import seaborn as sns\n",
    "import matplotlib.pyplot as plt\n",
    "\n",
    "# Calcular matriz de correlação\n",
    "correlacao = df_treino.drop('id', axis=1).corr()\n",
    "\n",
    "# Plotar heatmap\n",
    "plt.figure(figsize=(10, 8))\n",
    "sns.heatmap(correlacao, annot=True, cmap='coolwarm')\n",
    "plt.title(\"Matriz de Correlação\")\n",
    "plt.show()"
   ]
  }
 ],
 "metadata": {
  "language_info": {
   "name": "python"
  }
 },
 "nbformat": 4,
 "nbformat_minor": 2
}
